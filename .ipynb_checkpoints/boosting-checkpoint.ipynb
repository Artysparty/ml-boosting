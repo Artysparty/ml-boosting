{
 "cells": [
  {
   "cell_type": "code",
   "execution_count": 38,
   "id": "c769e1e5-5800-4d20-9d92-fbe6a9056c5a",
   "metadata": {},
   "outputs": [],
   "source": [
    "!pip install seaborn -q\n",
    "!pip install catboost -q\n",
    "\n",
    "import numpy as np\n",
    "import pandas as pd"
   ]
  },
  {
   "cell_type": "code",
   "execution_count": 39,
   "id": "f8e03132-06f1-4499-a0c5-e3f1d3fa6fb9",
   "metadata": {},
   "outputs": [],
   "source": [
    "catboost_data = pd.read_csv(\"./train.csv\")"
   ]
  },
  {
   "cell_type": "code",
   "execution_count": 40,
   "id": "6d4670aa-17c1-4549-bd2b-23e04df27e08",
   "metadata": {},
   "outputs": [
    {
     "name": "stdout",
     "output_type": "stream",
     "text": [
      "cat_features ['model', 'car_type', 'fuel_type']\n",
      "num_features 11\n",
      "targets ['target_class', 'target_reg']\n"
     ]
    }
   ],
   "source": [
    "cat_features = [\"model\", \"car_type\", \"fuel_type\"]\n",
    "targets = [\"target_class\", \"target_reg\"]\n",
    "features2drop = [\"car_id\"] \n",
    "\n",
    "filtered_features = [i for i in catboost_data.columns if (i not in targets and i not in features2drop)]\n",
    "num_features = [i for i in filtered_features if i not in cat_features]\n",
    "\n",
    "print(\"cat_features\", cat_features)\n",
    "print(\"num_features\", len(num_features))\n",
    "print(\"targets\", targets)\n",
    "\n",
    "for c in cat_features:  # Избавлеямся от NaN'ов\n",
    "    catboost_data[c] = catboost_data[c].astype(str)"
   ]
  },
  {
   "cell_type": "code",
   "execution_count": 41,
   "id": "f7b6e636-d8ea-40d7-a845-c83fec9d9bb2",
   "metadata": {},
   "outputs": [],
   "source": [
    "from sklearn.model_selection import train_test_split\n",
    "\n",
    "X = catboost_data[filtered_features].drop(targets, axis=1, errors=\"ignore\")\n",
    "y = catboost_data[\"target_reg\"]\n",
    "X_train, X_test, y_train, y_test = train_test_split(X, y, test_size=0.2, random_state=42)"
   ]
  },
  {
   "cell_type": "code",
   "execution_count": 42,
   "id": "9093f6c0-2866-4d60-99b0-d1d655418045",
   "metadata": {},
   "outputs": [
    {
     "name": "stdout",
     "output_type": "stream",
     "text": [
      "Learning rate set to 0.045195\n",
      "0:\tlearn: 17.1862834\ttotal: 17.7ms\tremaining: 17.7s\n",
      "500:\tlearn: 7.8920293\ttotal: 9.61s\tremaining: 9.57s\n",
      "999:\tlearn: 6.0539782\ttotal: 18.4s\tremaining: 0us\n",
      "{'learn': {'RMSE': 6.053978188487934}}\n"
     ]
    }
   ],
   "source": [
    "from catboost import CatBoostClassifier, CatBoostRegressor, Pool\n",
    "\n",
    "model = CatBoostRegressor(cat_features=cat_features, eval_metric=\"RMSE\")\n",
    "\n",
    "model.fit(\n",
    "    X_train,\n",
    "    y_train,\n",
    "    verbose=500,\n",
    "    plot=False,\n",
    ")\n",
    "\n",
    "print(model.best_score_)"
   ]
  },
  {
   "cell_type": "code",
   "execution_count": 43,
   "id": "6a269cee-982d-4bec-9fbd-41e88fcaef8e",
   "metadata": {},
   "outputs": [
    {
     "name": "stdout",
     "output_type": "stream",
     "text": [
      "0:\tlearn: 17.4581101\ttotal: 1.01ms\tremaining: 6.08s\n",
      "500:\tlearn: 9.8505664\ttotal: 1.22s\tremaining: 13.4s\n",
      "1000:\tlearn: 8.8667639\ttotal: 2.44s\tremaining: 12.2s\n",
      "1500:\tlearn: 7.9892911\ttotal: 3.63s\tremaining: 10.9s\n",
      "2000:\tlearn: 7.3131229\ttotal: 4.79s\tremaining: 9.58s\n",
      "2500:\tlearn: 6.7160936\ttotal: 5.99s\tremaining: 8.38s\n",
      "3000:\tlearn: 6.1720915\ttotal: 7.18s\tremaining: 7.17s\n",
      "3500:\tlearn: 5.7042292\ttotal: 8.44s\tremaining: 6.03s\n",
      "4000:\tlearn: 5.3150179\ttotal: 9.74s\tremaining: 4.86s\n",
      "4500:\tlearn: 4.9796864\ttotal: 11s\tremaining: 3.65s\n",
      "5000:\tlearn: 4.6683472\ttotal: 12.1s\tremaining: 2.42s\n",
      "5500:\tlearn: 4.3802919\ttotal: 13.3s\tremaining: 1.21s\n",
      "5999:\tlearn: 4.1194180\ttotal: 14.5s\tremaining: 0us\n",
      "{'learn': {'RMSE': 4.119418002045629}}\n"
     ]
    }
   ],
   "source": [
    "from catboost import CatBoostClassifier, CatBoostRegressor, Pool\n",
    "\n",
    "cbr = CatBoostRegressor(\n",
    "        depth=5,\n",
    "        iterations=6000,\n",
    "        learning_rate=0.07,   \n",
    "        cat_features=cat_features,\n",
    "        colsample_bylevel=0.097,\n",
    "        subsample=0.97,)\n",
    "\n",
    "cbr.fit(\n",
    "        X_train,\n",
    "        y_train,\n",
    "        verbose=500,\n",
    "        plot=False)\n",
    "\n",
    "\n",
    "print(cbr.best_score_)\n",
    "\n",
    "test = pd.read_csv('test.csv')\n",
    "for c in cat_features:\n",
    "    test[c] = test[c].astype(str)\n",
    "    \n",
    "x_test = test[filtered_features].drop(targets, axis=1, errors=\"ignore\")\n",
    "\n",
    "y_pred = cbr.predict(x_test)\n",
    "CatBoostReg_result = pd.DataFrame({'car_id': test['car_id'], 'target_reg': y_pred})\n",
    "CatBoostReg_result.to_csv('target_reg_0.csv')"
   ]
  },
  {
   "cell_type": "code",
   "execution_count": 44,
   "id": "62dec2ae-3dac-42de-a7bb-0278aa868f1b",
   "metadata": {},
   "outputs": [],
   "source": [
    "# LGBM\n",
    "!pip install lightgbm -q\n",
    "\n",
    "import lightgbm as lgb\n",
    "\n",
    "lgbm_data = pd.read_csv(\"./train.csv\")\n",
    "cat_cols = [\"car_type\", \"fuel_type\", \"model\"]\n",
    "drop_cols = [\"car_id\", \"target_reg\", \"target_class\"]\n",
    "\n",
    "X = lgbm_data.drop(drop_cols, axis=1)\n",
    "y = lgbm_data[\"target_class\"]"
   ]
  },
  {
   "cell_type": "code",
   "execution_count": 45,
   "id": "e7fea0aa-6a32-4117-8cbb-fe0bb24dbbd5",
   "metadata": {},
   "outputs": [],
   "source": [
    "from sklearn.preprocessing import LabelEncoder\n",
    "\n",
    "label_encoder = LabelEncoder()\n",
    "for col in cat_cols:\n",
    "    X[col] = label_encoder.fit_transform(X[col])\n",
    "\n",
    "label_encoder_tar = LabelEncoder()\n",
    "y = label_encoder_tar.fit_transform(y)"
   ]
  },
  {
   "cell_type": "code",
   "execution_count": 46,
   "id": "96b9ba10-c93e-4b38-b341-eeaebb63c2b5",
   "metadata": {},
   "outputs": [],
   "source": [
    "X_train, X_test, y_train, y_test = train_test_split(X, y, test_size=0.2, random_state=48)"
   ]
  },
  {
   "cell_type": "code",
   "execution_count": 47,
   "id": "dc4e1d34-0a02-4e0d-9526-919c11d39364",
   "metadata": {},
   "outputs": [
    {
     "name": "stdout",
     "output_type": "stream",
     "text": [
      "[LightGBM] [Info] Auto-choosing col-wise multi-threading, the overhead of testing was 0.000380 seconds.\n",
      "You can set `force_col_wise=true` to remove the overhead.\n",
      "[LightGBM] [Info] Total Bins 1634\n",
      "[LightGBM] [Info] Number of data points in the train set: 1869, number of used features: 13\n",
      "[LightGBM] [Info] Start training from score 3.889781\n",
      "defaultdict(<class 'collections.OrderedDict'>, {'valid_0': OrderedDict([('rmse', 0.8796081496617246)])})\n"
     ]
    }
   ],
   "source": [
    "from lightgbm import LGBMClassifier, train ,LGBMRegressor\n",
    "\n",
    "reg = LGBMRegressor(metric=\"RMSE\")\n",
    "reg.fit(\n",
    "    X_train,\n",
    "    y_train,\n",
    "    eval_set=[\n",
    "        (X_test, y_test),\n",
    "    ],\n",
    ")\n",
    "print(reg.best_score_)"
   ]
  },
  {
   "cell_type": "code",
   "execution_count": 48,
   "id": "57573aca-7673-4b0c-ac99-e7e1f4ec9c72",
   "metadata": {},
   "outputs": [
    {
     "name": "stdout",
     "output_type": "stream",
     "text": [
      "[LightGBM] [Info] Auto-choosing col-wise multi-threading, the overhead of testing was 0.000343 seconds.\n",
      "You can set `force_col_wise=true` to remove the overhead.\n",
      "[LightGBM] [Info] Total Bins 1636\n",
      "[LightGBM] [Info] Number of data points in the train set: 1869, number of used features: 13\n",
      "[LightGBM] [Info] Start training from score 3.889781\n",
      "defaultdict(<class 'collections.OrderedDict'>, {'valid_0': OrderedDict([('rmse', 0.8806420198774921)])})\n"
     ]
    }
   ],
   "source": [
    "reg = LGBMRegressor(\n",
    "    n_estimators=40,\n",
    "    cat_feature=[0, 1, 2],\n",
    "    metric=\"RMSE\")\n",
    "\n",
    "reg.fit(\n",
    "    X_train,\n",
    "    y_train,\n",
    "    eval_set=[\n",
    "        (X_test, y_test),\n",
    "    ],\n",
    ")\n",
    "\n",
    "print(reg.best_score_)\n",
    "\n",
    "test = pd.read_csv(\"test.csv\")\n",
    "\n",
    "drop_cols = [\"car_id\", \"target_class\"]\n",
    "x_test = test.drop(drop_cols, axis=1)\n",
    "\n",
    "for col in cat_cols:\n",
    "    x_test[col] = label_encoder.fit_transform(x_test[col])\n",
    "\n",
    "y_pred = reg.predict(x_test)\n",
    "LGBMReg_result = pd.DataFrame({'car_id': test['car_id'], 'target_reg': y_pred})\n",
    "LGBMReg_result.to_csv('target_reg_1.csv')"
   ]
  },
  {
   "cell_type": "code",
   "execution_count": 49,
   "id": "7d5040bd-69a4-47ee-88e8-77add475b181",
   "metadata": {},
   "outputs": [],
   "source": [
    "# XGBoost\n",
    "!pip install xgboost -q\n",
    "import xgboost as xgb\n",
    "import warnings; warnings.filterwarnings(\"ignore\")"
   ]
  },
  {
   "cell_type": "code",
   "execution_count": 50,
   "id": "3c9c9718-1ce1-4b9a-a282-8d2268a21c08",
   "metadata": {},
   "outputs": [],
   "source": [
    "xgb_data = pd.read_csv(\"./train.csv\")\n",
    "drop_cols = ['car_id', 'target_reg', 'target_class']\n",
    "cat_cols = ['car_type', 'fuel_type', 'model']\n",
    "\n",
    "X = xgb_data.drop(drop_cols, axis=1)\n",
    "y = xgb_data['target_reg']\n",
    "\n",
    " \n",
    "for col in cat_cols:\n",
    "    X[col] = X[col].astype('category')\n",
    "\n",
    "X_train, X_test, y_train, y_test = train_test_split(X, y, test_size=0.2, random_state=42)"
   ]
  },
  {
   "cell_type": "code",
   "execution_count": 51,
   "id": "03f79e6f-3967-461c-9341-6b2982991c33",
   "metadata": {},
   "outputs": [
    {
     "name": "stdout",
     "output_type": "stream",
     "text": [
      "[0]\tvalidation_0-rmse:15.73818\tvalidation_0-mean_poisson_deviance:4.83291\n",
      "[3]\tvalidation_0-rmse:13.04271\tvalidation_0-mean_poisson_deviance:3.25132\n",
      "[6]\tvalidation_0-rmse:12.64687\tvalidation_0-mean_poisson_deviance:3.07632\n",
      "[9]\tvalidation_0-rmse:12.65160\tvalidation_0-mean_poisson_deviance:3.07671\n",
      "[12]\tvalidation_0-rmse:12.67780\tvalidation_0-mean_poisson_deviance:3.08867\n",
      "[15]\tvalidation_0-rmse:12.75195\tvalidation_0-mean_poisson_deviance:3.13961\n",
      "[17]\tvalidation_0-rmse:12.83047\tvalidation_0-mean_poisson_deviance:3.17346\n"
     ]
    },
    {
     "data": {
      "text/plain": [
       "12.621295288019933"
      ]
     },
     "execution_count": 51,
     "metadata": {},
     "output_type": "execute_result"
    }
   ],
   "source": [
    "from sklearn.metrics import mean_poisson_deviance, mean_squared_error\n",
    "\n",
    "reg = xgb.XGBRegressor(tree_method=\"hist\",\n",
    "                       eval_metric = mean_poisson_deviance,\n",
    "                       enable_categorical=True,\n",
    "                       n_estimators=30, n_jobs=-1\n",
    ")\n",
    "reg.fit(X_train, y_train,\n",
    "        eval_set=[(X_test, y_test)],\n",
    "        early_stopping_rounds=10,\n",
    "        verbose=3)\n",
    "\n",
    "y_pred = reg.predict(X_test, iteration_range=(0, reg.best_iteration + 1))\n",
    "mean_squared_error(y_test, y_pred) ** 0.5"
   ]
  },
  {
   "cell_type": "code",
   "execution_count": 52,
   "id": "0efe9611-f355-4322-8e4b-b4293a10b5d0",
   "metadata": {
    "scrolled": true
   },
   "outputs": [
    {
     "name": "stdout",
     "output_type": "stream",
     "text": [
      "[0]\tvalidation_0-rmse:16.96575\tvalidation_0-mean_poisson_deviance:5.67149\n",
      "[3]\tvalidation_0-rmse:14.67370\tvalidation_0-mean_poisson_deviance:4.13927\n",
      "[6]\tvalidation_0-rmse:13.60951\tvalidation_0-mean_poisson_deviance:3.54065\n",
      "[9]\tvalidation_0-rmse:13.03824\tvalidation_0-mean_poisson_deviance:3.24689\n",
      "[12]\tvalidation_0-rmse:12.70254\tvalidation_0-mean_poisson_deviance:3.08529\n",
      "[15]\tvalidation_0-rmse:12.46497\tvalidation_0-mean_poisson_deviance:2.97226\n",
      "[18]\tvalidation_0-rmse:12.30981\tvalidation_0-mean_poisson_deviance:2.90461\n",
      "[21]\tvalidation_0-rmse:12.22979\tvalidation_0-mean_poisson_deviance:2.86940\n",
      "[24]\tvalidation_0-rmse:12.15357\tvalidation_0-mean_poisson_deviance:2.83741\n",
      "[27]\tvalidation_0-rmse:12.10781\tvalidation_0-mean_poisson_deviance:2.81949\n",
      "[30]\tvalidation_0-rmse:12.06578\tvalidation_0-mean_poisson_deviance:2.80452\n",
      "[33]\tvalidation_0-rmse:12.05146\tvalidation_0-mean_poisson_deviance:2.80217\n",
      "[36]\tvalidation_0-rmse:12.01737\tvalidation_0-mean_poisson_deviance:2.78888\n",
      "[39]\tvalidation_0-rmse:12.00293\tvalidation_0-mean_poisson_deviance:2.78398\n",
      "[42]\tvalidation_0-rmse:11.98515\tvalidation_0-mean_poisson_deviance:2.77759\n",
      "[45]\tvalidation_0-rmse:11.98565\tvalidation_0-mean_poisson_deviance:2.78080\n",
      "[48]\tvalidation_0-rmse:11.98774\tvalidation_0-mean_poisson_deviance:2.78435\n",
      "[50]\tvalidation_0-rmse:11.97305\tvalidation_0-mean_poisson_deviance:2.77873\n"
     ]
    },
    {
     "data": {
      "text/plain": [
       "11.983180884345987"
      ]
     },
     "execution_count": 52,
     "metadata": {},
     "output_type": "execute_result"
    }
   ],
   "source": [
    "reg = xgb.XGBRegressor(tree_method=\"hist\",\n",
    "                       eval_metric = mean_poisson_deviance,\n",
    "                       enable_categorical=True,\n",
    "                       n_estimators=80, \n",
    "                       n_jobs=-1,\n",
    "                       min_child_weight=16,\n",
    "                       max_bin=128,\n",
    "                       reg_alpha=275,\n",
    "                       reg_lambda=275,)\n",
    "\n",
    "reg.fit(X_train, y_train,\n",
    "        eval_set=[(X_test, y_test)],\n",
    "        early_stopping_rounds=10,\n",
    "        verbose=3)\n",
    "\n",
    "y_pred = reg.predict(X_test, iteration_range=(0, reg.best_iteration + 1))\n",
    "mean_squared_error(y_test, y_pred) ** 0.5"
   ]
  },
  {
   "cell_type": "code",
   "execution_count": 53,
   "id": "4187b04b-446d-4d88-918f-9ebcef444746",
   "metadata": {},
   "outputs": [],
   "source": [
    "test = pd.read_csv('test.csv')\n",
    "\n",
    "drop_cols = ['car_id', 'target_class']\n",
    "x_test = test.drop(drop_cols, axis=1)\n",
    "\n",
    "for col in cat_cols:\n",
    "    x_test[col] = x_test[col].astype('category')\n",
    "\n",
    "y_pred = reg.predict(x_test)\n",
    "XGBReg_result = pd.DataFrame({'car_id': test['car_id'], 'target_reg': y_pred})\n",
    "XGBReg_result.to_csv('target_reg_2.csv')"
   ]
  },
  {
   "cell_type": "code",
   "execution_count": null,
   "id": "44dc3b72-33a4-4944-b7a2-86328b747b9d",
   "metadata": {},
   "outputs": [],
   "source": []
  }
 ],
 "metadata": {
  "kernelspec": {
   "display_name": "Python 3 (ipykernel)",
   "language": "python",
   "name": "python3"
  },
  "language_info": {
   "codemirror_mode": {
    "name": "ipython",
    "version": 3
   },
   "file_extension": ".py",
   "mimetype": "text/x-python",
   "name": "python",
   "nbconvert_exporter": "python",
   "pygments_lexer": "ipython3",
   "version": "3.10.8"
  }
 },
 "nbformat": 4,
 "nbformat_minor": 5
}
